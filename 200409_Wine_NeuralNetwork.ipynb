{
  "nbformat": 4,
  "nbformat_minor": 0,
  "metadata": {
    "colab": {
      "name": "200409_Wine_NeuralNetwork.ipynb",
      "provenance": [],
      "collapsed_sections": [],
      "toc_visible": true,
      "mount_file_id": "11ZBPFT-je6KXgLHjTdjSWAwHNmBQ1ETH",
      "authorship_tag": "ABX9TyNsJ1hq/ZfPrjwBguUX+xy2",
      "include_colab_link": true
    },
    "kernelspec": {
      "name": "python3",
      "display_name": "Python 3"
    },
    "language_info": {
      "name": "python"
    },
    "accelerator": "GPU"
  },
  "cells": [
    {
      "cell_type": "markdown",
      "metadata": {
        "id": "view-in-github",
        "colab_type": "text"
      },
      "source": [
        "<a href=\"https://colab.research.google.com/github/TOga1220/pytorch_tutorial/blob/main/200409_Wine_NeuralNetwork.ipynb\" target=\"_parent\"><img src=\"https://colab.research.google.com/assets/colab-badge.svg\" alt=\"Open In Colab\"/></a>"
      ]
    },
    {
      "cell_type": "markdown",
      "metadata": {
        "id": "axxdQw7dlXm9"
      },
      "source": [
        "# ニューラルネットワークによるワインの分類"
      ]
    },
    {
      "cell_type": "code",
      "metadata": {
        "id": "9_RfDGYXkr48"
      },
      "source": [
        "import torch                           # tensorを扱えるようにする\n",
        "from torch.autograd import Variable    # 自動微分の関数\n",
        "import torch.nn as nn                  # ニューラルネットワーク（nn）のモジュール\n",
        "import torch.nn.functional as F         # 様々な活性化関数\n",
        "import torch.optim as optim           # 最適化のアルゴリズム\n",
        "from torch.utils.data import DataLoader, TensorDataset   # ユーティリティのデータを扱うためのデータローダー、テンソルデータセット"
      ],
      "execution_count": null,
      "outputs": []
    },
    {
      "cell_type": "code",
      "metadata": {
        "id": "W7k9R0X9oljt"
      },
      "source": [
        "from sklearn.datasets import load_wine\n",
        "from sklearn.model_selection import train_test_split "
      ],
      "execution_count": null,
      "outputs": []
    },
    {
      "cell_type": "code",
      "metadata": {
        "id": "2KAx0RSMqxMR"
      },
      "source": [
        "import pandas as pd"
      ],
      "execution_count": null,
      "outputs": []
    },
    {
      "cell_type": "code",
      "metadata": {
        "id": "JTzi8NNmq__A"
      },
      "source": [
        "## ワインデータセットの読み込み\n",
        "wine = load_wine()"
      ],
      "execution_count": null,
      "outputs": []
    },
    {
      "cell_type": "code",
      "metadata": {
        "colab": {
          "base_uri": "https://localhost:8080/"
        },
        "id": "VwpqhaGLrPJc",
        "outputId": "c24b882b-8c4c-40d9-819e-1c09f1c5d337"
      },
      "source": [
        "wine"
      ],
      "execution_count": null,
      "outputs": [
        {
          "output_type": "execute_result",
          "data": {
            "text/plain": [
              "{'DESCR': '.. _wine_dataset:\\n\\nWine recognition dataset\\n------------------------\\n\\n**Data Set Characteristics:**\\n\\n    :Number of Instances: 178 (50 in each of three classes)\\n    :Number of Attributes: 13 numeric, predictive attributes and the class\\n    :Attribute Information:\\n \\t\\t- Alcohol\\n \\t\\t- Malic acid\\n \\t\\t- Ash\\n\\t\\t- Alcalinity of ash  \\n \\t\\t- Magnesium\\n\\t\\t- Total phenols\\n \\t\\t- Flavanoids\\n \\t\\t- Nonflavanoid phenols\\n \\t\\t- Proanthocyanins\\n\\t\\t- Color intensity\\n \\t\\t- Hue\\n \\t\\t- OD280/OD315 of diluted wines\\n \\t\\t- Proline\\n\\n    - class:\\n            - class_0\\n            - class_1\\n            - class_2\\n\\t\\t\\n    :Summary Statistics:\\n    \\n    ============================= ==== ===== ======= =====\\n                                   Min   Max   Mean     SD\\n    ============================= ==== ===== ======= =====\\n    Alcohol:                      11.0  14.8    13.0   0.8\\n    Malic Acid:                   0.74  5.80    2.34  1.12\\n    Ash:                          1.36  3.23    2.36  0.27\\n    Alcalinity of Ash:            10.6  30.0    19.5   3.3\\n    Magnesium:                    70.0 162.0    99.7  14.3\\n    Total Phenols:                0.98  3.88    2.29  0.63\\n    Flavanoids:                   0.34  5.08    2.03  1.00\\n    Nonflavanoid Phenols:         0.13  0.66    0.36  0.12\\n    Proanthocyanins:              0.41  3.58    1.59  0.57\\n    Colour Intensity:              1.3  13.0     5.1   2.3\\n    Hue:                          0.48  1.71    0.96  0.23\\n    OD280/OD315 of diluted wines: 1.27  4.00    2.61  0.71\\n    Proline:                       278  1680     746   315\\n    ============================= ==== ===== ======= =====\\n\\n    :Missing Attribute Values: None\\n    :Class Distribution: class_0 (59), class_1 (71), class_2 (48)\\n    :Creator: R.A. Fisher\\n    :Donor: Michael Marshall (MARSHALL%PLU@io.arc.nasa.gov)\\n    :Date: July, 1988\\n\\nThis is a copy of UCI ML Wine recognition datasets.\\nhttps://archive.ics.uci.edu/ml/machine-learning-databases/wine/wine.data\\n\\nThe data is the results of a chemical analysis of wines grown in the same\\nregion in Italy by three different cultivators. There are thirteen different\\nmeasurements taken for different constituents found in the three types of\\nwine.\\n\\nOriginal Owners: \\n\\nForina, M. et al, PARVUS - \\nAn Extendible Package for Data Exploration, Classification and Correlation. \\nInstitute of Pharmaceutical and Food Analysis and Technologies,\\nVia Brigata Salerno, 16147 Genoa, Italy.\\n\\nCitation:\\n\\nLichman, M. (2013). UCI Machine Learning Repository\\n[https://archive.ics.uci.edu/ml]. Irvine, CA: University of California,\\nSchool of Information and Computer Science. \\n\\n.. topic:: References\\n\\n  (1) S. Aeberhard, D. Coomans and O. de Vel, \\n  Comparison of Classifiers in High Dimensional Settings, \\n  Tech. Rep. no. 92-02, (1992), Dept. of Computer Science and Dept. of  \\n  Mathematics and Statistics, James Cook University of North Queensland. \\n  (Also submitted to Technometrics). \\n\\n  The data was used with many others for comparing various \\n  classifiers. The classes are separable, though only RDA \\n  has achieved 100% correct classification. \\n  (RDA : 100%, QDA 99.4%, LDA 98.9%, 1NN 96.1% (z-transformed data)) \\n  (All results using the leave-one-out technique) \\n\\n  (2) S. Aeberhard, D. Coomans and O. de Vel, \\n  \"THE CLASSIFICATION PERFORMANCE OF RDA\" \\n  Tech. Rep. no. 92-01, (1992), Dept. of Computer Science and Dept. of \\n  Mathematics and Statistics, James Cook University of North Queensland. \\n  (Also submitted to Journal of Chemometrics).\\n',\n",
              " 'data': array([[1.423e+01, 1.710e+00, 2.430e+00, ..., 1.040e+00, 3.920e+00,\n",
              "         1.065e+03],\n",
              "        [1.320e+01, 1.780e+00, 2.140e+00, ..., 1.050e+00, 3.400e+00,\n",
              "         1.050e+03],\n",
              "        [1.316e+01, 2.360e+00, 2.670e+00, ..., 1.030e+00, 3.170e+00,\n",
              "         1.185e+03],\n",
              "        ...,\n",
              "        [1.327e+01, 4.280e+00, 2.260e+00, ..., 5.900e-01, 1.560e+00,\n",
              "         8.350e+02],\n",
              "        [1.317e+01, 2.590e+00, 2.370e+00, ..., 6.000e-01, 1.620e+00,\n",
              "         8.400e+02],\n",
              "        [1.413e+01, 4.100e+00, 2.740e+00, ..., 6.100e-01, 1.600e+00,\n",
              "         5.600e+02]]),\n",
              " 'feature_names': ['alcohol',\n",
              "  'malic_acid',\n",
              "  'ash',\n",
              "  'alcalinity_of_ash',\n",
              "  'magnesium',\n",
              "  'total_phenols',\n",
              "  'flavanoids',\n",
              "  'nonflavanoid_phenols',\n",
              "  'proanthocyanins',\n",
              "  'color_intensity',\n",
              "  'hue',\n",
              "  'od280/od315_of_diluted_wines',\n",
              "  'proline'],\n",
              " 'target': array([0, 0, 0, 0, 0, 0, 0, 0, 0, 0, 0, 0, 0, 0, 0, 0, 0, 0, 0, 0, 0, 0,\n",
              "        0, 0, 0, 0, 0, 0, 0, 0, 0, 0, 0, 0, 0, 0, 0, 0, 0, 0, 0, 0, 0, 0,\n",
              "        0, 0, 0, 0, 0, 0, 0, 0, 0, 0, 0, 0, 0, 0, 0, 1, 1, 1, 1, 1, 1, 1,\n",
              "        1, 1, 1, 1, 1, 1, 1, 1, 1, 1, 1, 1, 1, 1, 1, 1, 1, 1, 1, 1, 1, 1,\n",
              "        1, 1, 1, 1, 1, 1, 1, 1, 1, 1, 1, 1, 1, 1, 1, 1, 1, 1, 1, 1, 1, 1,\n",
              "        1, 1, 1, 1, 1, 1, 1, 1, 1, 1, 1, 1, 1, 1, 1, 1, 1, 1, 1, 1, 2, 2,\n",
              "        2, 2, 2, 2, 2, 2, 2, 2, 2, 2, 2, 2, 2, 2, 2, 2, 2, 2, 2, 2, 2, 2,\n",
              "        2, 2, 2, 2, 2, 2, 2, 2, 2, 2, 2, 2, 2, 2, 2, 2, 2, 2, 2, 2, 2, 2,\n",
              "        2, 2]),\n",
              " 'target_names': array(['class_0', 'class_1', 'class_2'], dtype='<U7')}"
            ]
          },
          "metadata": {
            "tags": []
          },
          "execution_count": 5
        }
      ]
    },
    {
      "cell_type": "code",
      "metadata": {
        "colab": {
          "base_uri": "https://localhost:8080/"
        },
        "id": "qZR4p1IArPoR",
        "outputId": "0eb2fd1e-4318-455e-933d-6ffba4afdb77"
      },
      "source": [
        "wine_data = pd.DataFrame(wine.data,columns=wine.feature_names )\n",
        "print(wine_data.shape)"
      ],
      "execution_count": null,
      "outputs": [
        {
          "output_type": "stream",
          "text": [
            "(178, 13)\n"
          ],
          "name": "stdout"
        }
      ]
    },
    {
      "cell_type": "code",
      "metadata": {
        "id": "2BbII2TVrxaf"
      },
      "source": [
        "# ラベルが0,1のものだけ使用\n",
        "wine_data = wine.data[0:130]\n",
        "wine_target = wine.target[0:130]"
      ],
      "execution_count": null,
      "outputs": []
    },
    {
      "cell_type": "code",
      "metadata": {
        "colab": {
          "base_uri": "https://localhost:8080/"
        },
        "id": "x4jPOYhD4QNI",
        "outputId": "73107c06-f850-4e47-e477-f20f6299b556"
      },
      "source": [
        "wine_target"
      ],
      "execution_count": null,
      "outputs": [
        {
          "output_type": "execute_result",
          "data": {
            "text/plain": [
              "array([0, 0, 0, 0, 0, 0, 0, 0, 0, 0, 0, 0, 0, 0, 0, 0, 0, 0, 0, 0, 0, 0,\n",
              "       0, 0, 0, 0, 0, 0, 0, 0, 0, 0, 0, 0, 0, 0, 0, 0, 0, 0, 0, 0, 0, 0,\n",
              "       0, 0, 0, 0, 0, 0, 0, 0, 0, 0, 0, 0, 0, 0, 0, 1, 1, 1, 1, 1, 1, 1,\n",
              "       1, 1, 1, 1, 1, 1, 1, 1, 1, 1, 1, 1, 1, 1, 1, 1, 1, 1, 1, 1, 1, 1,\n",
              "       1, 1, 1, 1, 1, 1, 1, 1, 1, 1, 1, 1, 1, 1, 1, 1, 1, 1, 1, 1, 1, 1,\n",
              "       1, 1, 1, 1, 1, 1, 1, 1, 1, 1, 1, 1, 1, 1, 1, 1, 1, 1, 1, 1])"
            ]
          },
          "metadata": {
            "tags": []
          },
          "execution_count": 8
        }
      ]
    },
    {
      "cell_type": "code",
      "metadata": {
        "id": "CbPNnVm_4awV"
      },
      "source": [
        "train_X, test_X, train_Y, test_Y = train_test_split(wine_data, wine_target, test_size = 0.25) "
      ],
      "execution_count": null,
      "outputs": []
    },
    {
      "cell_type": "code",
      "metadata": {
        "colab": {
          "base_uri": "https://localhost:8080/"
        },
        "id": "XmsEQ6GS4_tb",
        "outputId": "521d6ce5-fb92-4351-e677-0fe6c087bea3"
      },
      "source": [
        "len(train_X)"
      ],
      "execution_count": null,
      "outputs": [
        {
          "output_type": "execute_result",
          "data": {
            "text/plain": [
              "97"
            ]
          },
          "metadata": {
            "tags": []
          },
          "execution_count": 10
        }
      ]
    },
    {
      "cell_type": "code",
      "metadata": {
        "colab": {
          "base_uri": "https://localhost:8080/"
        },
        "id": "nTU-m0UQ5EoN",
        "outputId": "5a4a96ee-a702-4f66-cd17-8aaeac3c981e"
      },
      "source": [
        "len(test_X)"
      ],
      "execution_count": null,
      "outputs": [
        {
          "output_type": "execute_result",
          "data": {
            "text/plain": [
              "33"
            ]
          },
          "metadata": {
            "tags": []
          },
          "execution_count": 11
        }
      ]
    },
    {
      "cell_type": "markdown",
      "metadata": {
        "id": "QkM1bhhk5f04"
      },
      "source": [
        "## Pytorchへのテンソル変換"
      ]
    },
    {
      "cell_type": "code",
      "metadata": {
        "id": "LL2RaiM15Gv9"
      },
      "source": [
        "train_X = torch.from_numpy(train_X).float()\n",
        "train_Y = torch.from_numpy(train_Y).long()   # integer\n",
        "test_X = torch.from_numpy(test_X).float()\n",
        "test_Y = torch.from_numpy(test_Y).long()   # integer"
      ],
      "execution_count": null,
      "outputs": []
    },
    {
      "cell_type": "code",
      "metadata": {
        "colab": {
          "base_uri": "https://localhost:8080/"
        },
        "id": "REO0fAeV_D8T",
        "outputId": "cb30e59c-e0f0-43f2-bbbe-722e8bb333e9"
      },
      "source": [
        "train_X"
      ],
      "execution_count": null,
      "outputs": [
        {
          "output_type": "execute_result",
          "data": {
            "text/plain": [
              "tensor([[1.3750e+01, 1.7300e+00, 2.4100e+00,  ..., 1.1500e+00, 2.9000e+00,\n",
              "         1.3200e+03],\n",
              "        [1.2210e+01, 1.1900e+00, 1.7500e+00,  ..., 1.2800e+00, 3.0700e+00,\n",
              "         7.1800e+02],\n",
              "        [1.1870e+01, 4.3100e+00, 2.3900e+00,  ..., 7.5000e-01, 3.6400e+00,\n",
              "         3.8000e+02],\n",
              "        ...,\n",
              "        [1.2990e+01, 1.6700e+00, 2.6000e+00,  ..., 1.3100e+00, 3.5000e+00,\n",
              "         9.8500e+02],\n",
              "        [1.2000e+01, 9.2000e-01, 2.0000e+00,  ..., 1.3800e+00, 3.1200e+00,\n",
              "         2.7800e+02],\n",
              "        [1.1450e+01, 2.4000e+00, 2.4200e+00,  ..., 8.0000e-01, 3.3900e+00,\n",
              "         6.2500e+02]])"
            ]
          },
          "metadata": {
            "tags": []
          },
          "execution_count": 13
        }
      ]
    },
    {
      "cell_type": "code",
      "metadata": {
        "id": "G1_vrDFL_Dul"
      },
      "source": [
        "train = TensorDataset(train_X, train_Y) "
      ],
      "execution_count": null,
      "outputs": []
    },
    {
      "cell_type": "code",
      "metadata": {
        "colab": {
          "base_uri": "https://localhost:8080/"
        },
        "id": "VbEiubLL5bv4",
        "outputId": "090c502b-7c33-4e98-c672-5e9809d8d3c4"
      },
      "source": [
        "train[0]"
      ],
      "execution_count": null,
      "outputs": [
        {
          "output_type": "execute_result",
          "data": {
            "text/plain": [
              "(tensor([1.3750e+01, 1.7300e+00, 2.4100e+00, 1.6000e+01, 8.9000e+01, 2.6000e+00,\n",
              "         2.7600e+00, 2.9000e-01, 1.8100e+00, 5.6000e+00, 1.1500e+00, 2.9000e+00,\n",
              "         1.3200e+03]), tensor(0))"
            ]
          },
          "metadata": {
            "tags": []
          },
          "execution_count": 15
        }
      ]
    },
    {
      "cell_type": "code",
      "metadata": {
        "id": "PYkyU-VI_oXB"
      },
      "source": [
        "# ミニバッチ＝部分集合にわけてトレーニングを何回もする時に使用\n",
        "train_loader = DataLoader(train, batch_size=15, shuffle=True)"
      ],
      "execution_count": null,
      "outputs": []
    },
    {
      "cell_type": "markdown",
      "metadata": {
        "id": "YO4l0CExA9wp"
      },
      "source": [
        "## モデルの定義"
      ]
    },
    {
      "cell_type": "code",
      "metadata": {
        "id": "cEIa0HxeASGF"
      },
      "source": [
        "# PyTorchではtorch.nnモジュールでニューラルネットワークの基底クラスとなるModuleクラスを定義\n",
        "# Netクラスはtorch.nn.Moduleクラスを継承する\n",
        "class Net(nn.Module):\n",
        "  # インスタンス生成時に呼ばれる初期化の命令\n",
        "  def __init__(self):\n",
        "    super(Net, self).__init__()\n",
        "    self.fc1 = nn.Linear(13, 4)     # 入力は13ノード　、中間層は128とする\n",
        "    self.fc2 = nn.Linear(4, 2)      # 入力は128, 出力が2\n",
        "\n",
        "    # 　__init__メソッドで定義した層が実際にどのようにつながっているか（ニューラルネットワークがどのように計算を連ねていくか）はforwardメソッドで定める。\n",
        "  def forward(self, x):\n",
        "    x = F.relu(self.fc1(x))   # 活性化関数relu\n",
        "    x = self.fc2(x)\n",
        "    return F.log_softmax(x, dim=0)\n"
      ],
      "execution_count": null,
      "outputs": []
    },
    {
      "cell_type": "code",
      "metadata": {
        "id": "9d9XO7_jIB7h"
      },
      "source": [
        "model = Net()"
      ],
      "execution_count": null,
      "outputs": []
    },
    {
      "cell_type": "markdown",
      "metadata": {
        "id": "RYdUqQGXLSIW"
      },
      "source": [
        "## トレーニングの実行"
      ]
    },
    {
      "cell_type": "code",
      "metadata": {
        "id": "vyEkxBviJeNa"
      },
      "source": [
        "#　損失の計算\n",
        "# 交差エントロピー\n",
        "criterion = nn.CrossEntropyLoss()"
      ],
      "execution_count": null,
      "outputs": []
    },
    {
      "cell_type": "code",
      "metadata": {
        "id": "EJW5jtOTL0I_"
      },
      "source": [
        "# 最適化の計算\n",
        "# 最適化アルゴリズム　　　SGD：確率的勾配効果法\n",
        "optimizer = optim.SGD(model.parameters(), lr=0.01)"
      ],
      "execution_count": null,
      "outputs": []
    },
    {
      "cell_type": "code",
      "metadata": {
        "id": "Yc1Ik2NfMU5I",
        "colab": {
          "base_uri": "https://localhost:8080/"
        },
        "outputId": "885168cc-3641-4990-d19d-622db9b487d6"
      },
      "source": [
        "for epoch in range(500):\n",
        "  total_loss = 0    # 損失を格納するための変数を0で初期化\n",
        "\n",
        "  for train_x, train_y in train_loader:    # train_loaderのミニバッチのデータの塊がそれぞれtrain_x,train_yにセットされる\n",
        "    train_x, train_y = Variable(train_x), Variable(train_y)   # torch.autograd.Variable : テンソルをwrapして計算操作を記録\n",
        "    optimizer.zero_grad()  # optimizerの勾配を最初は０に。学習する旅に増やす\n",
        "    output = model(train_x)\n",
        "    loss = criterion(output, train_y)\n",
        "    loss.backward()    # 誤差を後方に伝播\n",
        "    optimizer.step()  # で伝播したデータを使ってパラメータを更新\n",
        "    total_loss += loss.data.item()\n",
        "\n",
        "  if (epoch+1) % 60 == 0:\n",
        "    print(epoch+1, total_loss)  "
      ],
      "execution_count": null,
      "outputs": [
        {
          "output_type": "stream",
          "text": [
            "60 4.852030992507935\n",
            "120 4.852030992507935\n",
            "180 4.852030992507935\n",
            "240 4.852030992507935\n",
            "300 4.852030992507935\n",
            "360 4.852030992507935\n",
            "420 4.852030992507935\n",
            "480 4.852030992507935\n"
          ],
          "name": "stdout"
        }
      ]
    },
    {
      "cell_type": "markdown",
      "metadata": {
        "id": "gmjJwhwiScOg"
      },
      "source": [
        "## 精度の計算"
      ]
    },
    {
      "cell_type": "code",
      "metadata": {
        "id": "IUph1UD6QO36"
      },
      "source": [
        "test_x, test_y = Variable(test_X), Variable(test_Y)\n",
        "result = torch.max(model(test_x).data, 1)[1]        # 出力が0or1なのか。\n",
        "accuracy = sum(test_y.data.numpy() == result.numpy()) / len(test_y.data.numpy())"
      ],
      "execution_count": null,
      "outputs": []
    },
    {
      "cell_type": "code",
      "metadata": {
        "colab": {
          "base_uri": "https://localhost:8080/"
        },
        "id": "JNJCIf7EpFMM",
        "outputId": "b0ec0eca-8f94-44e8-8c58-e9d6e4422030"
      },
      "source": [
        "accuracy"
      ],
      "execution_count": null,
      "outputs": [
        {
          "output_type": "execute_result",
          "data": {
            "text/plain": [
              "0.48484848484848486"
            ]
          },
          "metadata": {
            "tags": []
          },
          "execution_count": 72
        }
      ]
    },
    {
      "cell_type": "code",
      "metadata": {
        "id": "gKrool51px17"
      },
      "source": [
        ""
      ],
      "execution_count": null,
      "outputs": []
    }
  ]
}