{
  "nbformat": 4,
  "nbformat_minor": 0,
  "metadata": {
    "colab": {
      "name": "200409_pytorch_tutorial.ipynb",
      "provenance": [],
      "collapsed_sections": [],
      "toc_visible": true,
      "mount_file_id": "1tlFJCiZtSD4_XSiIYljpPSHiYU80fdYg",
      "authorship_tag": "ABX9TyPogLA/s7qjc6VBeR3dr7+f",
      "include_colab_link": true
    },
    "kernelspec": {
      "name": "python3",
      "display_name": "Python 3"
    },
    "language_info": {
      "name": "python"
    },
    "accelerator": "GPU"
  },
  "cells": [
    {
      "cell_type": "markdown",
      "metadata": {
        "id": "view-in-github",
        "colab_type": "text"
      },
      "source": [
        "<a href=\"https://colab.research.google.com/github/ogawa-tomohiro-1220/pytorch_udemy/blob/main/200409_pytorch_tutorial.ipynb\" target=\"_parent\"><img src=\"https://colab.research.google.com/assets/colab-badge.svg\" alt=\"Open In Colab\"/></a>"
      ]
    },
    {
      "cell_type": "markdown",
      "metadata": {
        "id": "OyDs_ToMustE"
      },
      "source": [
        "# Pytorch tutorial"
      ]
    },
    {
      "cell_type": "markdown",
      "metadata": {
        "id": "ahpa2_KL469u"
      },
      "source": [
        "## テンソルの生成"
      ]
    },
    {
      "cell_type": "code",
      "metadata": {
        "id": "ur5rUd5Nx1x4"
      },
      "source": [
        "import torch"
      ],
      "execution_count": 3,
      "outputs": []
    },
    {
      "cell_type": "code",
      "metadata": {
        "colab": {
          "base_uri": "https://localhost:8080/"
        },
        "id": "0pyz1PBD0QjJ",
        "outputId": "9dda4465-2b1c-4655-e906-fb30c488c334"
      },
      "source": [
        "# テンソルを生成 5行３列のランダムな2次元行列\n",
        "x = torch.empty(5,3)\n",
        "print(x)"
      ],
      "execution_count": 7,
      "outputs": [
        {
          "output_type": "stream",
          "text": [
            "tensor([[1.8215e+20, 3.0782e-41, 3.3631e-44],\n",
            "        [0.0000e+00,        nan, 0.0000e+00],\n",
            "        [4.4721e+21, 1.5956e+25, 4.7399e+16],\n",
            "        [3.7293e-08, 1.4838e-41, 0.0000e+00],\n",
            "        [0.0000e+00, 0.0000e+00, 0.0000e+00]])\n"
          ],
          "name": "stdout"
        }
      ]
    },
    {
      "cell_type": "code",
      "metadata": {
        "colab": {
          "base_uri": "https://localhost:8080/"
        },
        "id": "UCRiJ2xP0b_G",
        "outputId": "c9c8e20e-87d8-47e4-fa03-374bc4b41c9e"
      },
      "source": [
        "# 値を初期化して行列作成　　　乱数を発生させて初期化\n",
        "# 0~1のランダムな値を生成\n",
        "x = torch.rand(5,3)\n",
        "x"
      ],
      "execution_count": 11,
      "outputs": [
        {
          "output_type": "execute_result",
          "data": {
            "text/plain": [
              "tensor([[0.4842, 0.5610, 0.4795],\n",
              "        [0.4784, 0.6404, 0.8991],\n",
              "        [0.1716, 0.6895, 0.7626],\n",
              "        [0.1800, 0.5035, 0.0615],\n",
              "        [0.4406, 0.9802, 0.1375]])"
            ]
          },
          "metadata": {
            "tags": []
          },
          "execution_count": 11
        }
      ]
    },
    {
      "cell_type": "code",
      "metadata": {
        "colab": {
          "base_uri": "https://localhost:8080/"
        },
        "id": "4573mEpV2Evp",
        "outputId": "d729cd28-a3f6-4119-871a-a68dcfbb503a"
      },
      "source": [
        "# 0で初期化\n",
        "x = torch.zeros(5,3, dtype = torch.long)\n",
        "x"
      ],
      "execution_count": 13,
      "outputs": [
        {
          "output_type": "execute_result",
          "data": {
            "text/plain": [
              "tensor([[0, 0, 0],\n",
              "        [0, 0, 0],\n",
              "        [0, 0, 0],\n",
              "        [0, 0, 0],\n",
              "        [0, 0, 0]])"
            ]
          },
          "metadata": {
            "tags": []
          },
          "execution_count": 13
        }
      ]
    },
    {
      "cell_type": "code",
      "metadata": {
        "colab": {
          "base_uri": "https://localhost:8080/"
        },
        "id": "YT8ZlXLL2ZxL",
        "outputId": "e882cdca-fe15-4a4d-8306-233e30a330be"
      },
      "source": [
        "# 初期値（データ）を与えてtensorを生成\n",
        "x =torch.tensor([5.5,3])\n",
        "x"
      ],
      "execution_count": 16,
      "outputs": [
        {
          "output_type": "execute_result",
          "data": {
            "text/plain": [
              "tensor([5.5000, 3.0000])"
            ]
          },
          "metadata": {
            "tags": []
          },
          "execution_count": 16
        }
      ]
    },
    {
      "cell_type": "code",
      "metadata": {
        "colab": {
          "base_uri": "https://localhost:8080/"
        },
        "id": "B93o0ghv2_Ms",
        "outputId": "224e3126-739a-4698-d383-e1bb9792c1b0"
      },
      "source": [
        "# 1で初期化\n",
        "x = x.new_ones(5,3,dtype=torch.double)\n",
        "x"
      ],
      "execution_count": 18,
      "outputs": [
        {
          "output_type": "execute_result",
          "data": {
            "text/plain": [
              "tensor([[1., 1., 1.],\n",
              "        [1., 1., 1.],\n",
              "        [1., 1., 1.],\n",
              "        [1., 1., 1.],\n",
              "        [1., 1., 1.]], dtype=torch.float64)"
            ]
          },
          "metadata": {
            "tags": []
          },
          "execution_count": 18
        }
      ]
    },
    {
      "cell_type": "code",
      "metadata": {
        "colab": {
          "base_uri": "https://localhost:8080/"
        },
        "id": "dgf7_hNq3cYN",
        "outputId": "73914028-45cb-4980-d8f5-ae8531bf98bb"
      },
      "source": [
        "# _likeで形状を継承\n",
        "# randn: 平均が０、分散が１になるような乱数発生\n",
        "x = torch.randn_like(x, dtype = torch.float)\n",
        "x"
      ],
      "execution_count": 21,
      "outputs": [
        {
          "output_type": "execute_result",
          "data": {
            "text/plain": [
              "tensor([[-0.2977, -0.2902, -1.3661],\n",
              "        [ 0.1800, -0.5479,  0.6444],\n",
              "        [-0.1645,  0.4044, -0.1516],\n",
              "        [ 0.9799,  1.1567, -1.3930],\n",
              "        [ 1.8504,  0.2420, -0.3307]])"
            ]
          },
          "metadata": {
            "tags": []
          },
          "execution_count": 21
        }
      ]
    },
    {
      "cell_type": "code",
      "metadata": {
        "colab": {
          "base_uri": "https://localhost:8080/"
        },
        "id": "vCd5C2qL4Sd-",
        "outputId": "c2095dcc-9286-4099-af98-2e16a8bdc6e7"
      },
      "source": [
        "x.size()"
      ],
      "execution_count": 22,
      "outputs": [
        {
          "output_type": "execute_result",
          "data": {
            "text/plain": [
              "torch.Size([5, 3])"
            ]
          },
          "metadata": {
            "tags": []
          },
          "execution_count": 22
        }
      ]
    },
    {
      "cell_type": "markdown",
      "metadata": {
        "id": "W1CooDqX4t9C"
      },
      "source": [
        "## テンソルの演算"
      ]
    },
    {
      "cell_type": "code",
      "metadata": {
        "colab": {
          "base_uri": "https://localhost:8080/"
        },
        "id": "zOFb2wzv4xA4",
        "outputId": "e1af71df-5f4d-4334-adf1-eb675b2c889d"
      },
      "source": [
        "y = torch.rand(5,3)\n",
        "y"
      ],
      "execution_count": 24,
      "outputs": [
        {
          "output_type": "execute_result",
          "data": {
            "text/plain": [
              "tensor([[0.4205, 0.4624, 0.8938],\n",
              "        [0.7817, 0.1029, 0.9111],\n",
              "        [0.4064, 0.9546, 0.9987],\n",
              "        [0.8986, 0.5526, 0.9295],\n",
              "        [0.8171, 0.6243, 0.5298]])"
            ]
          },
          "metadata": {
            "tags": []
          },
          "execution_count": 24
        }
      ]
    },
    {
      "cell_type": "code",
      "metadata": {
        "colab": {
          "base_uri": "https://localhost:8080/"
        },
        "id": "H8hW6WNG5Ctd",
        "outputId": "96bb3089-ad7b-4cc4-f6d5-0b5727094174"
      },
      "source": [
        "# 各要素の足し算\n",
        "x + y"
      ],
      "execution_count": 25,
      "outputs": [
        {
          "output_type": "execute_result",
          "data": {
            "text/plain": [
              "tensor([[ 0.1227,  0.1722, -0.4723],\n",
              "        [ 0.9617, -0.4450,  1.5555],\n",
              "        [ 0.2420,  1.3590,  0.8472],\n",
              "        [ 1.8784,  1.7093, -0.4635],\n",
              "        [ 2.6675,  0.8664,  0.1991]])"
            ]
          },
          "metadata": {
            "tags": []
          },
          "execution_count": 25
        }
      ]
    },
    {
      "cell_type": "code",
      "metadata": {
        "colab": {
          "base_uri": "https://localhost:8080/"
        },
        "id": "fUYUypWV5Eyk",
        "outputId": "fa0163e8-4863-4050-8990-31665dee8b42"
      },
      "source": [
        "torch.add(x, y)"
      ],
      "execution_count": 27,
      "outputs": [
        {
          "output_type": "execute_result",
          "data": {
            "text/plain": [
              "tensor([[ 0.1227,  0.1722, -0.4723],\n",
              "        [ 0.9617, -0.4450,  1.5555],\n",
              "        [ 0.2420,  1.3590,  0.8472],\n",
              "        [ 1.8784,  1.7093, -0.4635],\n",
              "        [ 2.6675,  0.8664,  0.1991]])"
            ]
          },
          "metadata": {
            "tags": []
          },
          "execution_count": 27
        }
      ]
    },
    {
      "cell_type": "code",
      "metadata": {
        "colab": {
          "base_uri": "https://localhost:8080/"
        },
        "id": "sR--h4Z75POb",
        "outputId": "61f74dab-7209-4fc8-b339-01b7cd3ab3ca"
      },
      "source": [
        "result  = torch.empty(5, 3)\n",
        "result"
      ],
      "execution_count": 28,
      "outputs": [
        {
          "output_type": "execute_result",
          "data": {
            "text/plain": [
              "tensor([[2.7011e+20, 3.0782e-41, 1.5975e-43],\n",
              "        [1.3873e-43, 1.4574e-43, 6.4460e-44],\n",
              "        [1.4153e-43, 1.5274e-43, 1.5695e-43],\n",
              "        [1.6255e-43, 1.6956e-43, 0.0000e+00],\n",
              "        [0.0000e+00, 0.0000e+00, 0.0000e+00]])"
            ]
          },
          "metadata": {
            "tags": []
          },
          "execution_count": 28
        }
      ]
    },
    {
      "cell_type": "code",
      "metadata": {
        "colab": {
          "base_uri": "https://localhost:8080/"
        },
        "id": "X8ylXN2z5Zq6",
        "outputId": "358084e1-d922-4eef-821a-ab5124c98545"
      },
      "source": [
        "# resultの内容が上書き\n",
        "torch.add(x, y, out = result)"
      ],
      "execution_count": 29,
      "outputs": [
        {
          "output_type": "execute_result",
          "data": {
            "text/plain": [
              "tensor([[ 0.1227,  0.1722, -0.4723],\n",
              "        [ 0.9617, -0.4450,  1.5555],\n",
              "        [ 0.2420,  1.3590,  0.8472],\n",
              "        [ 1.8784,  1.7093, -0.4635],\n",
              "        [ 2.6675,  0.8664,  0.1991]])"
            ]
          },
          "metadata": {
            "tags": []
          },
          "execution_count": 29
        }
      ]
    },
    {
      "cell_type": "code",
      "metadata": {
        "colab": {
          "base_uri": "https://localhost:8080/"
        },
        "id": "7Urp1Zj05dpd",
        "outputId": "31691354-3b2e-45ec-ee6c-90fbc54d6613"
      },
      "source": [
        "y.add_(x)"
      ],
      "execution_count": 30,
      "outputs": [
        {
          "output_type": "execute_result",
          "data": {
            "text/plain": [
              "tensor([[ 0.1227,  0.1722, -0.4723],\n",
              "        [ 0.9617, -0.4450,  1.5555],\n",
              "        [ 0.2420,  1.3590,  0.8472],\n",
              "        [ 1.8784,  1.7093, -0.4635],\n",
              "        [ 2.6675,  0.8664,  0.1991]])"
            ]
          },
          "metadata": {
            "tags": []
          },
          "execution_count": 30
        }
      ]
    },
    {
      "cell_type": "code",
      "metadata": {
        "colab": {
          "base_uri": "https://localhost:8080/"
        },
        "id": "a3Z9A5Kf5ukm",
        "outputId": "2e3a5fa2-61ad-4f85-9b6a-4f91d3b4f964"
      },
      "source": [
        "x[:, 1]"
      ],
      "execution_count": 31,
      "outputs": [
        {
          "output_type": "execute_result",
          "data": {
            "text/plain": [
              "tensor([-0.2902, -0.5479,  0.4044,  1.1567,  0.2420])"
            ]
          },
          "metadata": {
            "tags": []
          },
          "execution_count": 31
        }
      ]
    },
    {
      "cell_type": "markdown",
      "metadata": {
        "id": "55V1B0bx6aEU"
      },
      "source": [
        "## NumPyとの連携"
      ]
    },
    {
      "cell_type": "code",
      "metadata": {
        "colab": {
          "base_uri": "https://localhost:8080/"
        },
        "id": "z5iZxcbl6chN",
        "outputId": "956bbf3b-8eac-4607-bb6f-fb7b97d27bde"
      },
      "source": [
        "a = torch.ones(5)\n",
        "a"
      ],
      "execution_count": 32,
      "outputs": [
        {
          "output_type": "execute_result",
          "data": {
            "text/plain": [
              "tensor([1., 1., 1., 1., 1.])"
            ]
          },
          "metadata": {
            "tags": []
          },
          "execution_count": 32
        }
      ]
    },
    {
      "cell_type": "code",
      "metadata": {
        "colab": {
          "base_uri": "https://localhost:8080/"
        },
        "id": "B2po6tnB6gZe",
        "outputId": "ceea8956-59ca-426d-e2ef-522c39477ef7"
      },
      "source": [
        "b = a.numpy()\n",
        "b"
      ],
      "execution_count": 33,
      "outputs": [
        {
          "output_type": "execute_result",
          "data": {
            "text/plain": [
              "array([1., 1., 1., 1., 1.], dtype=float32)"
            ]
          },
          "metadata": {
            "tags": []
          },
          "execution_count": 33
        }
      ]
    },
    {
      "cell_type": "code",
      "metadata": {
        "colab": {
          "base_uri": "https://localhost:8080/"
        },
        "id": "K-jL3CTq6oEF",
        "outputId": "03ad8e58-c5a2-49fa-ba1b-1caa2794ccd4"
      },
      "source": [
        "a.add_(1)"
      ],
      "execution_count": 36,
      "outputs": [
        {
          "output_type": "execute_result",
          "data": {
            "text/plain": [
              "tensor([2., 2., 2., 2., 2.])"
            ]
          },
          "metadata": {
            "tags": []
          },
          "execution_count": 36
        }
      ]
    },
    {
      "cell_type": "code",
      "metadata": {
        "colab": {
          "base_uri": "https://localhost:8080/"
        },
        "id": "8yq7zgtm62hE",
        "outputId": "6a4722e0-cecc-4d40-c52c-ac168745360e"
      },
      "source": [
        "# aの要素を更新するとbも更新される！\n",
        "b"
      ],
      "execution_count": 37,
      "outputs": [
        {
          "output_type": "execute_result",
          "data": {
            "text/plain": [
              "array([2., 2., 2., 2., 2.], dtype=float32)"
            ]
          },
          "metadata": {
            "tags": []
          },
          "execution_count": 37
        }
      ]
    },
    {
      "cell_type": "markdown",
      "metadata": {
        "id": "F_FuWeQU7NYu"
      },
      "source": [
        "### NumPyからTorch Tensorへ"
      ]
    },
    {
      "cell_type": "code",
      "metadata": {
        "id": "phmX-dtQ62sz"
      },
      "source": [
        "import numpy as np"
      ],
      "execution_count": 38,
      "outputs": []
    },
    {
      "cell_type": "code",
      "metadata": {
        "colab": {
          "base_uri": "https://localhost:8080/"
        },
        "id": "fS4trkbc7aML",
        "outputId": "ae424291-b3e2-4cfc-c644-7f400bd519cd"
      },
      "source": [
        "a = np.ones(5)\n",
        "b = torch.from_numpy(a)\n",
        "np.add(a, 1, out = a)"
      ],
      "execution_count": 41,
      "outputs": [
        {
          "output_type": "execute_result",
          "data": {
            "text/plain": [
              "array([2., 2., 2., 2., 2.])"
            ]
          },
          "metadata": {
            "tags": []
          },
          "execution_count": 41
        }
      ]
    },
    {
      "cell_type": "code",
      "metadata": {
        "colab": {
          "base_uri": "https://localhost:8080/"
        },
        "id": "TX14Rjvm7dDa",
        "outputId": "e535f3df-2772-48e2-f135-09369d6cbf54"
      },
      "source": [
        "b"
      ],
      "execution_count": 42,
      "outputs": [
        {
          "output_type": "execute_result",
          "data": {
            "text/plain": [
              "tensor([2., 2., 2., 2., 2.], dtype=torch.float64)"
            ]
          },
          "metadata": {
            "tags": []
          },
          "execution_count": 42
        }
      ]
    },
    {
      "cell_type": "code",
      "metadata": {
        "id": "VxCnf16M7xqj"
      },
      "source": [
        ""
      ],
      "execution_count": null,
      "outputs": []
    }
  ]
}